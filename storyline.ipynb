{
 "cells": [
  {
   "cell_type": "code",
   "execution_count": 1,
   "metadata": {},
   "outputs": [
    {
     "name": "stdout",
     "output_type": "stream",
     "text": [
      "Enter your charachter's name: k\n",
      "Do you want to play k (enter yes or no)?no\n",
      "Please play again\n",
      "Do you want to play k (enter yes or no)?no\n",
      "Please play again\n",
      "Do you want to play k (enter yes or no)?no\n",
      "Please play again\n",
      "Do you want to play k (enter yes or no)?no\n",
      "Please play again\n",
      "Do you want to play k (enter yes or no)?no\n",
      "Please play again\n",
      "Do you want to play k (enter yes or no)?no\n",
      "Please play again\n",
      "Do you want to play k (enter yes or no)?no\n",
      "Please play again\n",
      "Do you want to play k (enter yes or no)?no\n",
      "Please play again\n",
      "Do you want to play k (enter yes or no)?no\n",
      "Please play again\n",
      "Do you want to play k (enter yes or no)?no\n",
      "Please play again\n",
      "Do you want to play k (enter yes or no)?no\n",
      "Please play again\n",
      "Do you want to play k (enter yes or no)?yes\n",
      "Let your adventure begin. You now have a sword to use along your journey!\n",
      "You come across a forked road with two identical paths.\n",
      "Do you want to go left or right? yes\n",
      "Try again\n",
      "Do you want to go left or right? left\n",
      "k , you have chosen to go left.\n",
      "yay\n"
     ]
    }
   ],
   "source": [
    "player = input(\"Enter your charachter's name: \")\n",
    "choice1 = input(\"Do you want to play %s (enter yes or no)?\"%(player)).lower()\n",
    "while choice1 == \"no\":\n",
    "    print(\"Please play again\")\n",
    "    choice1 = input(\"Do you want to play %s (enter yes or no)?\"%(player)).lower()\n",
    "while choice1 != \"no\" and choice1 != \"yes\":\n",
    "    print(\"Try again\")\n",
    "    choice1 = input(\"Do you want to play %s (enter yes or no)?\"%(player)).lower()\n",
    "if choice1 == \"yes\":\n",
    "    print(\"Let your adventure begin. You now have a sword to use along your journey!\")\n",
    "    print(\"You come across a forked road with two identical paths.\")\n",
    "    choice2 = input(\"Do you want to go left or right? \").lower()\n",
    "while choice2 != \"left\" and choice2 != \"right\":\n",
    "    print(\"Try again\")\n",
    "    choice2 = input(\"Do you want to go left or right? \").lower()\n",
    "if choice2 == \"left\":\n",
    "    print(player,\", you have chosen to go left.\")  \n",
    "    choice3 = input(\"\")\n",
    "if choice2 == \"right\":\n",
    "    print(player,\", you have chosen to go right.\")\n",
    "    choice4 = input(\"\")\n"
   ]
  },
  {
   "cell_type": "code",
   "execution_count": null,
   "metadata": {},
   "outputs": [],
   "source": []
  }
 ],
 "metadata": {
  "kernelspec": {
   "display_name": "Python 3",
   "language": "python",
   "name": "python3"
  },
  "language_info": {
   "codemirror_mode": {
    "name": "ipython",
    "version": 3
   },
   "file_extension": ".py",
   "mimetype": "text/x-python",
   "name": "python",
   "nbconvert_exporter": "python",
   "pygments_lexer": "ipython3",
   "version": "3.6.6"
  }
 },
 "nbformat": 4,
 "nbformat_minor": 2
}
